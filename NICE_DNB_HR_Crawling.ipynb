{
  "nbformat": 4,
  "nbformat_minor": 0,
  "metadata": {
    "colab": {
      "provenance": []
    },
    "kernelspec": {
      "name": "python3",
      "display_name": "Python 3"
    },
    "language_info": {
      "name": "python"
    }
  },
  "cells": [
    {
      "cell_type": "markdown",
      "metadata": {
        "id": "goauz4uplHDa"
      },
      "source": [
        "# Module & Data Import"
      ]
    },
    {
      "cell_type": "code",
      "execution_count": null,
      "metadata": {
        "id": "hwM9dnooj-kk"
      },
      "outputs": [],
      "source": [
        "# 한글 폰트 / 실행 후 런타임 재연결\n",
        "!sudo apt-get install -y fonts-nanum\n",
        "!sudo fc-cache -fv\n",
        "!rm ~/.cache/matplotlib -rf"
      ]
    },
    {
      "cell_type": "code",
      "execution_count": null,
      "metadata": {
        "colab": {
          "base_uri": "https://localhost:8080/"
        },
        "id": "_z7YsZm9jnSC",
        "outputId": "48d28458-292d-4da8-933e-99a4a97364db"
      },
      "outputs": [
        {
          "name": "stdout",
          "output_type": "stream",
          "text": [
            "Drive already mounted at /content/drive; to attempt to forcibly remount, call drive.mount(\"/content/drive\", force_remount=True).\n"
          ]
        }
      ],
      "source": [
        "from google.colab import drive\n",
        "drive.mount('/content/drive')"
      ]
    },
    {
      "cell_type": "code",
      "execution_count": null,
      "metadata": {
        "colab": {
          "base_uri": "https://localhost:8080/"
        },
        "id": "hbaNgmK0CAo-",
        "outputId": "8d2d174d-4b7a-4435-ea5a-9fe2bee0106c"
      },
      "outputs": [
        {
          "name": "stdout",
          "output_type": "stream",
          "text": [
            "Looking in indexes: https://pypi.org/simple, https://us-python.pkg.dev/colab-wheels/public/simple/\n",
            "Collecting selenium\n",
            "  Downloading selenium-4.6.0-py3-none-any.whl (5.2 MB)\n",
            "\u001b[K     |████████████████████████████████| 5.2 MB 4.1 MB/s \n",
            "\u001b[?25hCollecting trio~=0.17\n",
            "  Downloading trio-0.22.0-py3-none-any.whl (384 kB)\n",
            "\u001b[K     |████████████████████████████████| 384 kB 66.0 MB/s \n",
            "\u001b[?25hCollecting trio-websocket~=0.9\n",
            "  Downloading trio_websocket-0.9.2-py3-none-any.whl (16 kB)\n",
            "Collecting urllib3[socks]~=1.26\n",
            "  Downloading urllib3-1.26.13-py2.py3-none-any.whl (140 kB)\n",
            "\u001b[K     |████████████████████████████████| 140 kB 53.6 MB/s \n",
            "\u001b[?25hRequirement already satisfied: certifi>=2021.10.8 in /usr/local/lib/python3.7/dist-packages (from selenium) (2022.9.24)\n",
            "Requirement already satisfied: attrs>=19.2.0 in /usr/local/lib/python3.7/dist-packages (from trio~=0.17->selenium) (22.1.0)\n",
            "Requirement already satisfied: sortedcontainers in /usr/local/lib/python3.7/dist-packages (from trio~=0.17->selenium) (2.4.0)\n",
            "Requirement already satisfied: idna in /usr/local/lib/python3.7/dist-packages (from trio~=0.17->selenium) (2.10)\n",
            "Collecting exceptiongroup>=1.0.0rc9\n",
            "  Downloading exceptiongroup-1.0.4-py3-none-any.whl (14 kB)\n",
            "Collecting sniffio\n",
            "  Downloading sniffio-1.3.0-py3-none-any.whl (10 kB)\n",
            "Collecting outcome\n",
            "  Downloading outcome-1.2.0-py2.py3-none-any.whl (9.7 kB)\n",
            "Collecting async-generator>=1.9\n",
            "  Downloading async_generator-1.10-py3-none-any.whl (18 kB)\n",
            "Collecting wsproto>=0.14\n",
            "  Downloading wsproto-1.2.0-py3-none-any.whl (24 kB)\n",
            "Requirement already satisfied: PySocks!=1.5.7,<2.0,>=1.5.6 in /usr/local/lib/python3.7/dist-packages (from urllib3[socks]~=1.26->selenium) (1.7.1)\n",
            "Collecting h11<1,>=0.9.0\n",
            "  Downloading h11-0.14.0-py3-none-any.whl (58 kB)\n",
            "\u001b[K     |████████████████████████████████| 58 kB 6.3 MB/s \n",
            "\u001b[?25hRequirement already satisfied: typing-extensions in /usr/local/lib/python3.7/dist-packages (from h11<1,>=0.9.0->wsproto>=0.14->trio-websocket~=0.9->selenium) (4.1.1)\n",
            "Installing collected packages: sniffio, outcome, h11, exceptiongroup, async-generator, wsproto, urllib3, trio, trio-websocket, selenium\n",
            "  Attempting uninstall: urllib3\n",
            "    Found existing installation: urllib3 1.24.3\n",
            "    Uninstalling urllib3-1.24.3:\n",
            "      Successfully uninstalled urllib3-1.24.3\n",
            "\u001b[31mERROR: pip's dependency resolver does not currently take into account all the packages that are installed. This behaviour is the source of the following dependency conflicts.\n",
            "requests 2.23.0 requires urllib3!=1.25.0,!=1.25.1,<1.26,>=1.21.1, but you have urllib3 1.26.13 which is incompatible.\u001b[0m\n",
            "Successfully installed async-generator-1.10 exceptiongroup-1.0.4 h11-0.14.0 outcome-1.2.0 selenium-4.6.0 sniffio-1.3.0 trio-0.22.0 trio-websocket-0.9.2 urllib3-1.26.13 wsproto-1.2.0\n",
            "Get:1 https://cloud.r-project.org/bin/linux/ubuntu bionic-cran40/ InRelease [3,626 B]\n",
            "Ign:2 https://developer.download.nvidia.com/compute/machine-learning/repos/ubuntu1804/x86_64  InRelease\n",
            "Get:3 https://developer.download.nvidia.com/compute/cuda/repos/ubuntu1804/x86_64  InRelease [1,581 B]\n",
            "Hit:4 https://developer.download.nvidia.com/compute/machine-learning/repos/ubuntu1804/x86_64  Release\n",
            "Get:5 http://security.ubuntu.com/ubuntu bionic-security InRelease [88.7 kB]\n",
            "Hit:6 http://ppa.launchpad.net/c2d4u.team/c2d4u4.0+/ubuntu bionic InRelease\n",
            "Hit:7 http://archive.ubuntu.com/ubuntu bionic InRelease\n",
            "Hit:8 http://ppa.launchpad.net/cran/libgit2/ubuntu bionic InRelease\n",
            "Get:9 http://archive.ubuntu.com/ubuntu bionic-updates InRelease [88.7 kB]\n",
            "Get:10 https://developer.download.nvidia.com/compute/cuda/repos/ubuntu1804/x86_64  Packages [1,038 kB]\n",
            "Hit:11 http://ppa.launchpad.net/deadsnakes/ppa/ubuntu bionic InRelease\n",
            "Get:13 http://archive.ubuntu.com/ubuntu bionic-backports InRelease [83.3 kB]\n",
            "Hit:14 http://ppa.launchpad.net/graphics-drivers/ppa/ubuntu bionic InRelease\n",
            "Get:15 http://security.ubuntu.com/ubuntu bionic-security/universe amd64 Packages [1,561 kB]\n",
            "Get:16 http://archive.ubuntu.com/ubuntu bionic-updates/universe amd64 Packages [2,338 kB]\n",
            "Get:17 http://security.ubuntu.com/ubuntu bionic-security/main amd64 Packages [3,067 kB]\n",
            "Get:18 http://archive.ubuntu.com/ubuntu bionic-updates/main amd64 Packages [3,493 kB]\n",
            "Fetched 11.8 MB in 5s (2,340 kB/s)\n",
            "Reading package lists... Done\n",
            "Reading package lists... Done\n",
            "Building dependency tree       \n",
            "Reading state information... Done\n",
            "The following package was automatically installed and is no longer required:\n",
            "  libnvidia-common-460\n",
            "Use 'apt autoremove' to remove it.\n",
            "The following additional packages will be installed:\n",
            "  chromium-browser chromium-browser-l10n chromium-codecs-ffmpeg-extra\n",
            "Suggested packages:\n",
            "  webaccounts-chromium-extension unity-chromium-extension\n",
            "The following NEW packages will be installed:\n",
            "  chromium-browser chromium-browser-l10n chromium-chromedriver\n",
            "  chromium-codecs-ffmpeg-extra\n",
            "0 upgraded, 4 newly installed, 0 to remove and 9 not upgraded.\n",
            "Need to get 95.1 MB of archives.\n",
            "After this operation, 319 MB of additional disk space will be used.\n",
            "Get:1 http://archive.ubuntu.com/ubuntu bionic-updates/universe amd64 chromium-codecs-ffmpeg-extra amd64 107.0.5304.87-0ubuntu11.18.04.1 [1,158 kB]\n",
            "Get:2 http://archive.ubuntu.com/ubuntu bionic-updates/universe amd64 chromium-browser amd64 107.0.5304.87-0ubuntu11.18.04.1 [83.1 MB]\n",
            "Get:3 http://archive.ubuntu.com/ubuntu bionic-updates/universe amd64 chromium-browser-l10n all 107.0.5304.87-0ubuntu11.18.04.1 [5,260 kB]\n",
            "Get:4 http://archive.ubuntu.com/ubuntu bionic-updates/universe amd64 chromium-chromedriver amd64 107.0.5304.87-0ubuntu11.18.04.1 [5,570 kB]\n",
            "Fetched 95.1 MB in 10s (9,711 kB/s)\n",
            "Selecting previously unselected package chromium-codecs-ffmpeg-extra.\n",
            "(Reading database ... 124009 files and directories currently installed.)\n",
            "Preparing to unpack .../chromium-codecs-ffmpeg-extra_107.0.5304.87-0ubuntu11.18.04.1_amd64.deb ...\n",
            "Unpacking chromium-codecs-ffmpeg-extra (107.0.5304.87-0ubuntu11.18.04.1) ...\n",
            "Selecting previously unselected package chromium-browser.\n",
            "Preparing to unpack .../chromium-browser_107.0.5304.87-0ubuntu11.18.04.1_amd64.deb ...\n",
            "Unpacking chromium-browser (107.0.5304.87-0ubuntu11.18.04.1) ...\n",
            "Selecting previously unselected package chromium-browser-l10n.\n",
            "Preparing to unpack .../chromium-browser-l10n_107.0.5304.87-0ubuntu11.18.04.1_all.deb ...\n",
            "Unpacking chromium-browser-l10n (107.0.5304.87-0ubuntu11.18.04.1) ...\n",
            "Selecting previously unselected package chromium-chromedriver.\n",
            "Preparing to unpack .../chromium-chromedriver_107.0.5304.87-0ubuntu11.18.04.1_amd64.deb ...\n",
            "Unpacking chromium-chromedriver (107.0.5304.87-0ubuntu11.18.04.1) ...\n",
            "Setting up chromium-codecs-ffmpeg-extra (107.0.5304.87-0ubuntu11.18.04.1) ...\n",
            "Setting up chromium-browser (107.0.5304.87-0ubuntu11.18.04.1) ...\n",
            "update-alternatives: using /usr/bin/chromium-browser to provide /usr/bin/x-www-browser (x-www-browser) in auto mode\n",
            "update-alternatives: using /usr/bin/chromium-browser to provide /usr/bin/gnome-www-browser (gnome-www-browser) in auto mode\n",
            "Setting up chromium-chromedriver (107.0.5304.87-0ubuntu11.18.04.1) ...\n",
            "Setting up chromium-browser-l10n (107.0.5304.87-0ubuntu11.18.04.1) ...\n",
            "Processing triggers for man-db (2.8.3-2ubuntu0.1) ...\n",
            "Processing triggers for hicolor-icon-theme (0.17-2) ...\n",
            "Processing triggers for mime-support (3.60ubuntu1) ...\n",
            "Processing triggers for libc-bin (2.27-3ubuntu1.6) ...\n",
            "cp: '/usr/lib/chromium-browser/chromedriver' and '/usr/bin/chromedriver' are the same file\n"
          ]
        }
      ],
      "source": [
        "#이 부분은 처음 한번만 실행\n",
        "!pip install selenium\n",
        "!apt-get update\n",
        "!apt install chromium-chromedriver\n",
        "!cp /usr/lib/chromium-browser/chromedriver /usr/bin"
      ]
    },
    {
      "cell_type": "code",
      "execution_count": null,
      "metadata": {
        "id": "mQtMGnd8kT0F"
      },
      "outputs": [],
      "source": [
        "import pandas as pd\n",
        "import seaborn as sns\n",
        "import matplotlib.pyplot as plt\n",
        "import numpy as np\n",
        "import datetime as dt\n",
        "from tqdm import tqdm\n",
        "import warnings\n",
        "import plotly.express as px\n",
        "from matplotlib.colors import LinearSegmentedColormap\n",
        "from sklearn.metrics import mean_absolute_error\n",
        "from sklearn.model_selection import train_test_split, StratifiedKFold\n",
        "sns.set(font='NaNumBarunGothic')\n",
        "\n",
        "\n",
        "\n",
        "%matplotlib inline\n",
        "\n",
        "\n",
        "pd.options.display.max_columns = None # 모든 컬럼 볼 수 있게끔\n",
        "# 경고 끄기\n",
        "warnings.filterwarnings(action='ignore')"
      ]
    },
    {
      "cell_type": "code",
      "execution_count": null,
      "metadata": {
        "id": "LivdeY9mjR7D"
      },
      "outputs": [],
      "source": [
        "# 필요한 라이브러리 불러오기\n",
        "import pandas as pd  \n",
        "\n",
        "pd.set_option('display.max_columns', None)\n",
        "\n",
        "from selenium import webdriver  \n",
        "from selenium.webdriver.common.keys import Keys \n",
        "from selenium.webdriver.common.by import By  \n",
        "from selenium.webdriver.support.ui import WebDriverWait \n",
        "from selenium.webdriver.support import expected_conditions as EC  \n",
        "from selenium.webdriver.common.action_chains import ActionChains\n",
        "from selenium.webdriver.support.ui import WebDriverWait as wait\n",
        "from bs4 import BeautifulSoup  \n",
        "from pandas import DataFrame  \n",
        "import time  \n",
        "import requests \n",
        "import re  \n",
        "\n",
        "import urllib.request  "
      ]
    },
    {
      "cell_type": "code",
      "execution_count": null,
      "metadata": {
        "id": "UNFdQwjojvNd"
      },
      "outputs": [],
      "source": [
        "# 최종 병합 데이터 불러오기\n",
        "active = pd.read_csv('/content/drive/MyDrive/NICE_DNB/dnb_data/baseline_df.csv')"
      ]
    },
    {
      "cell_type": "markdown",
      "metadata": {
        "id": "1PNwRfIxlN6A"
      },
      "source": [
        "# 중소기업 고용인원 수, 퇴사자 수, 퇴사비율 등 크롤링"
      ]
    },
    {
      "cell_type": "code",
      "execution_count": null,
      "metadata": {
        "colab": {
          "base_uri": "https://localhost:8080/",
          "height": 206
        },
        "id": "4LP9g_05lXQf",
        "outputId": "7b2e87d2-1007-4ac4-8082-a8c11f3de09f"
      },
      "outputs": [
        {
          "data": {
            "text/html": [
              "\n",
              "  <div id=\"df-c2e5b617-198d-4108-a7dd-2b21d4bb791c\">\n",
              "    <div class=\"colab-df-container\">\n",
              "      <div>\n",
              "<style scoped>\n",
              "    .dataframe tbody tr th:only-of-type {\n",
              "        vertical-align: middle;\n",
              "    }\n",
              "\n",
              "    .dataframe tbody tr th {\n",
              "        vertical-align: top;\n",
              "    }\n",
              "\n",
              "    .dataframe thead th {\n",
              "        text-align: right;\n",
              "    }\n",
              "</style>\n",
              "<table border=\"1\" class=\"dataframe\">\n",
              "  <thead>\n",
              "    <tr style=\"text-align: right;\">\n",
              "      <th></th>\n",
              "      <th>BIZ_NO</th>\n",
              "      <th>END_DATE</th>\n",
              "      <th>STRT_DATE</th>\n",
              "      <th>CLSBZ_GB</th>\n",
              "      <th>STAT_OCR_DATE</th>\n",
              "    </tr>\n",
              "  </thead>\n",
              "  <tbody>\n",
              "    <tr>\n",
              "      <th>0</th>\n",
              "      <td>1268145633</td>\n",
              "      <td>99991231</td>\n",
              "      <td>20220518</td>\n",
              "      <td>3</td>\n",
              "      <td>20220518</td>\n",
              "    </tr>\n",
              "    <tr>\n",
              "      <th>1</th>\n",
              "      <td>1388101749</td>\n",
              "      <td>99991231</td>\n",
              "      <td>20210319</td>\n",
              "      <td>3</td>\n",
              "      <td>20210319</td>\n",
              "    </tr>\n",
              "    <tr>\n",
              "      <th>2</th>\n",
              "      <td>1068179240</td>\n",
              "      <td>99991231</td>\n",
              "      <td>20200731</td>\n",
              "      <td>3</td>\n",
              "      <td>20191213</td>\n",
              "    </tr>\n",
              "    <tr>\n",
              "      <th>3</th>\n",
              "      <td>2248114507</td>\n",
              "      <td>99991231</td>\n",
              "      <td>20210531</td>\n",
              "      <td>3</td>\n",
              "      <td>20210531</td>\n",
              "    </tr>\n",
              "    <tr>\n",
              "      <th>4</th>\n",
              "      <td>1168132785</td>\n",
              "      <td>99991231</td>\n",
              "      <td>20210630</td>\n",
              "      <td>3</td>\n",
              "      <td>20210630</td>\n",
              "    </tr>\n",
              "  </tbody>\n",
              "</table>\n",
              "</div>\n",
              "      <button class=\"colab-df-convert\" onclick=\"convertToInteractive('df-c2e5b617-198d-4108-a7dd-2b21d4bb791c')\"\n",
              "              title=\"Convert this dataframe to an interactive table.\"\n",
              "              style=\"display:none;\">\n",
              "        \n",
              "  <svg xmlns=\"http://www.w3.org/2000/svg\" height=\"24px\"viewBox=\"0 0 24 24\"\n",
              "       width=\"24px\">\n",
              "    <path d=\"M0 0h24v24H0V0z\" fill=\"none\"/>\n",
              "    <path d=\"M18.56 5.44l.94 2.06.94-2.06 2.06-.94-2.06-.94-.94-2.06-.94 2.06-2.06.94zm-11 1L8.5 8.5l.94-2.06 2.06-.94-2.06-.94L8.5 2.5l-.94 2.06-2.06.94zm10 10l.94 2.06.94-2.06 2.06-.94-2.06-.94-.94-2.06-.94 2.06-2.06.94z\"/><path d=\"M17.41 7.96l-1.37-1.37c-.4-.4-.92-.59-1.43-.59-.52 0-1.04.2-1.43.59L10.3 9.45l-7.72 7.72c-.78.78-.78 2.05 0 2.83L4 21.41c.39.39.9.59 1.41.59.51 0 1.02-.2 1.41-.59l7.78-7.78 2.81-2.81c.8-.78.8-2.07 0-2.86zM5.41 20L4 18.59l7.72-7.72 1.47 1.35L5.41 20z\"/>\n",
              "  </svg>\n",
              "      </button>\n",
              "      \n",
              "  <style>\n",
              "    .colab-df-container {\n",
              "      display:flex;\n",
              "      flex-wrap:wrap;\n",
              "      gap: 12px;\n",
              "    }\n",
              "\n",
              "    .colab-df-convert {\n",
              "      background-color: #E8F0FE;\n",
              "      border: none;\n",
              "      border-radius: 50%;\n",
              "      cursor: pointer;\n",
              "      display: none;\n",
              "      fill: #1967D2;\n",
              "      height: 32px;\n",
              "      padding: 0 0 0 0;\n",
              "      width: 32px;\n",
              "    }\n",
              "\n",
              "    .colab-df-convert:hover {\n",
              "      background-color: #E2EBFA;\n",
              "      box-shadow: 0px 1px 2px rgba(60, 64, 67, 0.3), 0px 1px 3px 1px rgba(60, 64, 67, 0.15);\n",
              "      fill: #174EA6;\n",
              "    }\n",
              "\n",
              "    [theme=dark] .colab-df-convert {\n",
              "      background-color: #3B4455;\n",
              "      fill: #D2E3FC;\n",
              "    }\n",
              "\n",
              "    [theme=dark] .colab-df-convert:hover {\n",
              "      background-color: #434B5C;\n",
              "      box-shadow: 0px 1px 3px 1px rgba(0, 0, 0, 0.15);\n",
              "      filter: drop-shadow(0px 1px 2px rgba(0, 0, 0, 0.3));\n",
              "      fill: #FFFFFF;\n",
              "    }\n",
              "  </style>\n",
              "\n",
              "      <script>\n",
              "        const buttonEl =\n",
              "          document.querySelector('#df-c2e5b617-198d-4108-a7dd-2b21d4bb791c button.colab-df-convert');\n",
              "        buttonEl.style.display =\n",
              "          google.colab.kernel.accessAllowed ? 'block' : 'none';\n",
              "\n",
              "        async function convertToInteractive(key) {\n",
              "          const element = document.querySelector('#df-c2e5b617-198d-4108-a7dd-2b21d4bb791c');\n",
              "          const dataTable =\n",
              "            await google.colab.kernel.invokeFunction('convertToInteractive',\n",
              "                                                     [key], {});\n",
              "          if (!dataTable) return;\n",
              "\n",
              "          const docLinkHtml = 'Like what you see? Visit the ' +\n",
              "            '<a target=\"_blank\" href=https://colab.research.google.com/notebooks/data_table.ipynb>data table notebook</a>'\n",
              "            + ' to learn more about interactive tables.';\n",
              "          element.innerHTML = '';\n",
              "          dataTable['output_type'] = 'display_data';\n",
              "          await google.colab.output.renderOutput(dataTable, element);\n",
              "          const docLink = document.createElement('div');\n",
              "          docLink.innerHTML = docLinkHtml;\n",
              "          element.appendChild(docLink);\n",
              "        }\n",
              "      </script>\n",
              "    </div>\n",
              "  </div>\n",
              "  "
            ],
            "text/plain": [
              "       BIZ_NO  END_DATE  STRT_DATE  CLSBZ_GB  STAT_OCR_DATE\n",
              "0  1268145633  99991231   20220518         3       20220518\n",
              "1  1388101749  99991231   20210319         3       20210319\n",
              "2  1068179240  99991231   20200731         3       20191213\n",
              "3  2248114507  99991231   20210531         3       20210531\n",
              "4  1168132785  99991231   20210630         3       20210630"
            ]
          },
          "execution_count": 6,
          "metadata": {},
          "output_type": "execute_result"
        }
      ],
      "source": [
        "# 데이터 확인\n",
        "active.head()"
      ]
    },
    {
      "cell_type": "code",
      "execution_count": null,
      "metadata": {
        "id": "l1V7sJyDS2MQ"
      },
      "outputs": [],
      "source": [
        "chrome_options = webdriver.ChromeOptions()\n",
        "\n",
        "chrome_options.add_argument('--headless') #내부 창을 띄울 수 없으므로 설정한다.\n",
        "\n",
        "chrome_options.add_argument('--no-sandbox')\n",
        "\n",
        "chrome_options.add_argument('--disable-dev-shm-usage')"
      ]
    },
    {
      "cell_type": "markdown",
      "metadata": {
        "id": "Ixql5J0loTkb"
      },
      "source": [
        "solving point\n",
        "- 스크롤해서 요소 있는 곳까지 창을 내려야 하는 문제X\n",
        "- driver에 커서를 둔다는 부분이 잘못되었다는 오류 ->  input 위치를 elem에 담기\n",
        "- 검색어 입력 후 새로 로드된 검색 결과창에서의 검색창의 xpath나 selector 주소는 홈페이지의 검색창 주소와 다르다. 따라서, 반복문을 가능케 하기 위해서는 driver.back()을 통해 이전 페이지(홈페이지)로 다시 이동해야 한다.\n",
        "- .click() 말고 send_keys로 해야한다."
      ]
    },
    {
      "cell_type": "code",
      "execution_count": null,
      "metadata": {
        "id": "7FfI2XVUnWFV"
      },
      "outputs": [],
      "source": [
        "# ## 단일 퇴사비율 크롤링 성공 코드\n",
        "\n",
        "# driver = webdriver.Chrome('chromedriver',chrome_options=chrome_options)\n",
        "\n",
        "# driver.get(\"https://kreditjob.com/\")\n",
        "\n",
        "# driver.implicitly_wait(3) \n",
        "\n",
        "\n",
        "\n",
        "# sentiment = []\n",
        "\n",
        "# for nm in active['CMP_NM1']:\n",
        "\n",
        "#   elem = driver.find_element(By.XPATH, '/html/body/div[1]/div/main/div/section/div/div/input')\n",
        "#   time.sleep(3)\n",
        "\n",
        "#   elem.send_keys(nm)\n",
        "\n",
        "#   time.sleep(3)\n",
        "  \n",
        "#   elem.send_keys(Keys.ENTER)\n",
        "\n",
        "#   time.sleep(3)\n",
        "\n",
        "#   try: \n",
        "#     sen = driver.find_element(By.CSS_SELECTOR, '#employee > div.sc-aa430d54-2.ctnBIX > div.sc-544aa8ed-2.bEJKQI > div:nth-child(2) > div:nth-child(3) > span.sc-cbced2aa-0.icFcrR')\n",
        "    \n",
        "#     time.sleep(5)\n",
        "\n",
        "#     sentiment.append(sen.text) \n",
        "#     driver.back()\n",
        "    \n",
        "#   except:\n",
        "#     sentiment.append('NA')\n",
        "#     print('error')\n",
        "#     driver.get(\"https://kreditjob.com/\")"
      ]
    },
    {
      "cell_type": "code",
      "execution_count": null,
      "metadata": {
        "colab": {
          "base_uri": "https://localhost:8080/"
        },
        "id": "Dy24UJpLgcc-",
        "outputId": "af95cca7-d76f-49c6-ebc8-e763bcbe6b13"
      },
      "outputs": [
        {
          "name": "stdout",
          "output_type": "stream",
          "text": [
            "Looking in indexes: https://pypi.org/simple, https://us-python.pkg.dev/colab-wheels/public/simple/\n",
            "Requirement already satisfied: tqdm in /usr/local/lib/python3.7/dist-packages (4.64.1)\n"
          ]
        }
      ],
      "source": [
        "!pip install tqdm"
      ]
    },
    {
      "cell_type": "code",
      "execution_count": null,
      "metadata": {
        "id": "E41l5mm-ge8W"
      },
      "outputs": [],
      "source": [
        "from tqdm import trange, notebook"
      ]
    },
    {
      "cell_type": "code",
      "execution_count": null,
      "metadata": {
        "id": "fpfzKSrn37Zc"
      },
      "outputs": [],
      "source": [
        "driver = webdriver.Chrome('chromedriver',chrome_options=chrome_options)\n",
        "\n",
        "driver.get(\"https://kreditjob.com/\")\n",
        "\n",
        "driver.implicitly_wait(3) \n",
        "\n",
        "\n",
        "\n",
        "avg_wage = []\n",
        "avg_wage_percent = []\n",
        "total_employee = []\n",
        "turnover_rate = []\n",
        "turnover_rate_ranking = []\n",
        "employee_growth_rate = []\n",
        "employee_growth_rate_ranking = []\n",
        "\n",
        "\n",
        "for nm in notebook.tqdm(active['CMP_NM']):\n",
        "\n",
        "  elem = driver.find_element(By.XPATH, '/html/body/div[1]/div/main/div/section/div/div/input')\n",
        "\n",
        "  elem.send_keys(nm)\n",
        "\n",
        "  time.sleep(1)\n",
        "  \n",
        "  elem.send_keys(Keys.ENTER)\n",
        "\n",
        "  driver.implicitly_wait(3) \n",
        "\n",
        "  try: \n",
        "    wage = driver.find_element(By.CSS_SELECTOR, '#salary > div.sc-aa430d54-2.ctnBIX > ul:nth-child(1) > li:nth-child(1) > div.sc-a9f04011-7.gzTsqY > p.sc-a9f04011-1.dfohwU')\n",
        "    wage_percent  = driver.find_element(By.CSS_SELECTOR, '#salary > div.sc-aa430d54-2.ctnBIX > ul:nth-child(1) > li:nth-child(1) > div.sc-a9f04011-7.gzTsqY > p.sc-a9f04011-2.dBemhr > span')\n",
        "    employee = driver.find_element(By.CSS_SELECTOR, '#company-summary > div.sc-aa430d54-2.ctnBIX > div > div:nth-child(2) > div.sc-fe4d2dab-14.beAAkI > div.sc-fe4d2dab-12.fMPuUh > span')\n",
        "    turnover = driver.find_element(By.CSS_SELECTOR, '#employee > div.sc-aa430d54-2.ctnBIX > div.sc-544aa8ed-2.bEJKQI > div:nth-child(2) > div:nth-child(3) > span.sc-cbced2aa-0.icFcrR')\n",
        "    turnover_ranking = driver.find_element(By.CSS_SELECTOR, '#employee > div.sc-aa430d54-2.ctnBIX > div.sc-544aa8ed-2.bEJKQI > div:nth-child(2) > div:nth-child(4) > span > span')\n",
        "    employee_growth = driver.find_element(By.CSS_SELECTOR, '#employee > div.sc-aa430d54-2.ctnBIX > div.sc-544aa8ed-2.bEJKQI > div:nth-child(3) > div:nth-child(3) > span.sc-cbced2aa-0.icFcrR')\n",
        "    employee_ranking = driver.find_element(By.CSS_SELECTOR, '#employee > div.sc-aa430d54-2.ctnBIX > div.sc-544aa8ed-2.bEJKQI > div:nth-child(3) > div:nth-child(4) > span > span')\n",
        "\n",
        "\n",
        "    avg_wage.append(wage.text) \n",
        "    avg_wage_percent.append(wage_percent.text)\n",
        "    total_employee.append(employee.text)\n",
        "    turnover_rate.append(turnover.text)\n",
        "    turnover_rate_ranking.append(turnover_ranking.text)\n",
        "    employee_growth_rate.append(employee_growth.text)\n",
        "    employee_growth_rate_ranking.append(employee_ranking.text)\n",
        "\n",
        "    print(avg_wage)\n",
        "\n",
        "    driver.get(\"https://kreditjob.com/\")\n",
        "    \n",
        "  except:\n",
        "    avg_wage.append('NA')\n",
        "    avg_wage_percent.append('NA')\n",
        "    total_employee.append('NA')\n",
        "    turnover_rate.append('NA')\n",
        "    turnover_rate_ranking.append('NA')\n",
        "    employee_growth_rate.append('NA')\n",
        "    employee_growth_rate_ranking.append('NA')\n",
        "\n",
        "    driver.get(\"https://kreditjob.com/\")"
      ]
    },
    {
      "cell_type": "code",
      "execution_count": null,
      "metadata": {
        "id": "L7iKCDTaGmkn"
      },
      "outputs": [],
      "source": [
        "result = pd.DataFrame(\n",
        "    zip(\n",
        "        avg_wage,\n",
        "        avg_wage_percent,\n",
        "        total_employee,\n",
        "        turnover_rate,\n",
        "        turnover_rate_ranking,\n",
        "        employee_growth_rate,\n",
        "        employee_growth_rate_ranking),\n",
        "\n",
        "        columns = ['avg_wage', 'avg_wage_percent', 'total_employee', 'turnover_rate', 'turnover_rate_ranking',\n",
        "                   'employee_growth_rate', 'employee_growth_rate_ranking']\n",
        "        )"
      ]
    },
    {
      "cell_type": "code",
      "execution_count": null,
      "metadata": {
        "id": "9THeYr1XIDdZ"
      },
      "outputs": [],
      "source": [
        "result.to_csv('/content/drive/MyDrive/NICE_DNB/dnb_data/HR_data.csv')"
      ]
    }
  ]
}